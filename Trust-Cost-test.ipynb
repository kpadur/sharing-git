{
 "cells": [
  {
   "cell_type": "code",
   "execution_count": 100,
   "metadata": {},
   "outputs": [],
   "source": [
    "import matplotlib.pyplot as plt"
   ]
  },
  {
   "cell_type": "markdown",
   "metadata": {},
   "source": [
    "Input values - a, b, g, N"
   ]
  },
  {
   "cell_type": "code",
   "execution_count": 67,
   "metadata": {},
   "outputs": [],
   "source": [
    "b=0.4\n",
    "g=0.3\n",
    "a=1-(b+g)\n",
    "N=5"
   ]
  },
  {
   "cell_type": "markdown",
   "metadata": {},
   "source": [
    "Function to calculate trust from direct experience: observed agent and other members"
   ]
  },
  {
   "cell_type": "code",
   "execution_count": 82,
   "metadata": {},
   "outputs": [],
   "source": [
    "def TrustDirect(r_s, b_i):    \n",
    "    td_list=[]\n",
    "    n=r_s+b_i\n",
    "    td_list.append(n)\n",
    "    l=0.9\n",
    "    k_suc=0\n",
    "    k_fail=0\n",
    "    i=0\n",
    "    for i in range(1,10):\n",
    "        if i == 1:\n",
    "            k_suc=i\n",
    "            n=round(l*(k_suc-k_fail)/(k_suc+k_fail)+(1-l)*n,4)\n",
    "            td_list.append(n)\n",
    "            i+=1\n",
    "\n",
    "        elif i<=6:  \n",
    "            k_suc=i\n",
    "            n=round(l*(k_suc-k_fail)/(k_suc+k_fail)+(1-l)*n,4)\n",
    "            td_list.append(n)\n",
    "            i+=1           \n",
    "\n",
    "        elif i==7:\n",
    "            k_suc=i-1\n",
    "            k_fail=1\n",
    "            n=round(l*(k_suc-k_fail)/(k_suc+k_fail)+(1-l)*n,4)\n",
    "            td_list.append(n)\n",
    "            i+=1\n",
    "\n",
    "        else:\n",
    "            k_suc=i-1\n",
    "            n=round(l*(k_suc-k_fail)/(k_suc+k_fail)+(1-l)*n,4)\n",
    "            td_list.append(n)\n",
    "            i+=1\n",
    "\n",
    "    return td_list "
   ]
  },
  {
   "cell_type": "markdown",
   "metadata": {},
   "source": [
    "Direct trust of five agents across ten interactions"
   ]
  },
  {
   "cell_type": "code",
   "execution_count": 83,
   "metadata": {},
   "outputs": [],
   "source": [
    "td_1 = TrustDirect(0.5, 0.001)\n",
    "td_2 = TrustDirect(-0.2, 0.008)\n",
    "td_3 = TrustDirect(-0.6, 0.012)\n",
    "td_4 = TrustDirect(0.2, 0.002)\n",
    "td_5 = TrustDirect(0.35, 0.011)"
   ]
  },
  {
   "cell_type": "markdown",
   "metadata": {},
   "source": [
    "Calculate average trust of other agents using direct trust values "
   ]
  },
  {
   "cell_type": "code",
   "execution_count": 90,
   "metadata": {},
   "outputs": [],
   "source": [
    "tdj_agents=[td_2, td_3, td_4, td_5]\n",
    "tdj=[]\n",
    "for i in range (len(td_2)):\n",
    "    betweensum=0\n",
    "    for j in range (len(tdj_agents)):\n",
    "        betweensum+=tdj_agents[j][i]\n",
    "    tdj.append(betweensum/(len(tdj_agents)))"
   ]
  },
  {
   "cell_type": "markdown",
   "metadata": {},
   "source": [
    "Trust values of observed agent over period of interations"
   ]
  },
  {
   "cell_type": "code",
   "execution_count": 97,
   "metadata": {},
   "outputs": [],
   "source": [
    "t_1=[]\n",
    "for i in range(1,10):\n",
    "    t=b*tdj[i-1]+g*td_1[i]\n",
    "    t_1.append(t)"
   ]
  },
  {
   "cell_type": "markdown",
   "metadata": {},
   "source": [
    "Calculate cost C(t)"
   ]
  },
  {
   "cell_type": "code",
   "execution_count": 98,
   "metadata": {},
   "outputs": [],
   "source": [
    "c_1=[]\n",
    "for i in range (3,8):\n",
    "    c=t_1[i]**2-2*(b*tdj[i-1]+g*td_1[i])*t_1[i]+b*tdj[i-1]**2+g*td_1[i]**2\n",
    "    c_1.append(c)"
   ]
  },
  {
   "cell_type": "code",
   "execution_count": 101,
   "metadata": {},
   "outputs": [
    {
     "data": {
      "image/png": "[encoded data removed]",
      "text/plain": [
       "<Figure size 432x288 with 1 Axes>"
      ]
     },
     "metadata": {
      "needs_background": "light"
     },
     "output_type": "display_data"
    }
   ],
   "source": [
    "time = ['4','5','6','7','8']\n",
    "plt.plot(time, t_1[4:9], '--', color=\"blue\", label=\"trust\")\n",
    "plt.plot(time, c_1, '-', color=\"red\", label=\"cost\")\n",
    "\n",
    "plt.title(\"Trust and cost change for agent over interactions\\n[a=\"+str(round(a,1))+\", b=\"+str(b)+\", g=\"+str(g)+\", N=\"+str(N)+\"]\")\n",
    "plt.xlabel(\"time\")\n",
    "plt.ylabel(\"trust, cost\")\n",
    "plt.legend()\n",
    "plt.show()"
   ]
  },
  {
   "cell_type": "code",
   "execution_count": null,
   "metadata": {},
   "outputs": [],
   "source": []
  }
 ],
 "metadata": {
  "kernelspec": {
   "display_name": "Python 3",
   "language": "python",
   "name": "python3"
  },
  "language_info": {
   "codemirror_mode": {
    "name": "ipython",
    "version": 3
   },
   "file_extension": ".py",
   "mimetype": "text/x-python",
   "name": "python",
   "nbconvert_exporter": "python",
   "pygments_lexer": "ipython3",
   "version": "3.8.5"
  }
 },
 "nbformat": 4,
 "nbformat_minor": 4
}
